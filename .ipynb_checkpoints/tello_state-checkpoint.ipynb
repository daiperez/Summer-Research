{
 "cells": [
  {
   "cell_type": "code",
   "execution_count": null,
   "metadata": {},
   "outputs": [],
   "source": [
    "import socket\n",
    "from time import sleep\n",
    "import curses\n",
    "\n",
    "INTERVAL = 0.2\n",
    "\n",
    "def report(str):\n",
    "    stdscr.addstr(0, 0, str)\n",
    "    stdscr.refresh()\n",
    "    \n",
    "if __name__ == \"__main__\":\n",
    "    stdscr = curses.initscr()\n",
    "    curses.noecho()\n",
    "    curses.cbreak()\n",
    "    \n",
    "    local_ip = ''\n",
    "    local_port = 8890\n",
    "    socket = socket.socket(socket.AF_INET, socket.SOCK_DGRAM)  # socket for sending cmd\n",
    "    socket.bind((local_ip, local_port))\n",
    "\n",
    "    tello_ip = '192.168.10.1'\n",
    "    tello_port = 8889\n",
    "    tello_adderss = (tello_ip, tello_port)\n",
    "\n",
    "    socket.sendto('command'.encode('utf-8'), tello_adderss)\n",
    "\n",
    "    try:\n",
    "        index = 0\n",
    "        while True:\n",
    "            index += 1\n",
    "            response, ip = socket.recvfrom(1024)\n",
    "            if response == 'ok':\n",
    "                continue\n",
    "            out = response.replace(';', ';\\n')\n",
    "            out = 'Tello State:\\n' + out\n",
    "            report(out)\n",
    "            sleep(INTERVAL)\n",
    "    except KeyboardInterrupt:\n",
    "        curses.echo()\n",
    "        curses.nocbreak()\n",
    "        curses.endwin()\n",
    "\n"
   ]
  }
 ],
 "metadata": {
  "kernelspec": {
   "display_name": "Python 3",
   "language": "python",
   "name": "python3"
  },
  "language_info": {
   "codemirror_mode": {
    "name": "ipython",
    "version": 3
   },
   "file_extension": ".py",
   "mimetype": "text/x-python",
   "name": "python",
   "nbconvert_exporter": "python",
   "pygments_lexer": "ipython3",
   "version": "3.7.4"
  }
 },
 "nbformat": 4,
 "nbformat_minor": 2
}
