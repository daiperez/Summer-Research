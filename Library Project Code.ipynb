{
 "cells": [
  {
   "cell_type": "markdown",
   "metadata": {},
   "source": [
    "Some things that we would need for this board to do is:\n",
    "\n",
    "-- Reset data : after each closing night, we can reset the information in case at some point the two chips were out of sync, thus not portraying inaccurate results for the the next day.\n",
    "\n",
    "-- Data interation between two boards: We want to make sure that the data from both boards are being brought together in order to give an accurate # of people in the building\n",
    "\n",
    "-- Connect to WiFi\n",
    "\n",
    "-- Send information to a database"
   ]
  },
  {
   "cell_type": "code",
   "execution_count": null,
   "metadata": {},
   "outputs": [],
   "source": []
  }
 ],
 "metadata": {
  "kernelspec": {
   "display_name": "Python 3",
   "language": "python",
   "name": "python3"
  },
  "language_info": {
   "codemirror_mode": {
    "name": "ipython",
    "version": 3
   },
   "file_extension": ".py",
   "mimetype": "text/x-python",
   "name": "python",
   "nbconvert_exporter": "python",
   "pygments_lexer": "ipython3",
   "version": "3.7.4"
  }
 },
 "nbformat": 4,
 "nbformat_minor": 2
}
