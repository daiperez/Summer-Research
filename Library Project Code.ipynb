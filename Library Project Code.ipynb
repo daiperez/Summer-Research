{
 "cells": [
  {
   "cell_type": "markdown",
   "metadata": {},
   "source": [
    "Some things that we would need for this board to do is:\n",
    "\n",
    "- Connect to WiFi\n",
    "\n",
    "- Send information to a database\n",
    "\n",
    "Update: July 07 2020\n",
    "\n",
    "- we will make a code thatd etects something <65\" or <165.1cm or <1.651m\n",
    "    - Once something that is less than this amount, we will send a '1' to Adafruit IO, we will keep the default at '0'\n",
    "- we will then have a code for resetting:\n",
    "    - if there is a '1' sent to Adafruit IO for more than 5 sec, we will have the device restart and get information from 5 sec before this.\n"
   ]
  },
  {
   "cell_type": "markdown",
   "metadata": {},
   "source": [
    "Some notes on the LIDAR-Lite v4 LED from: \n",
    "https://buy.garmin.com/en-US/US/p/610275#specs\n",
    "\n",
    "- using \" high accuracy\" mode, with averaging: +/- 1cm to 2 meters, +/- 3 cm to 4 meters, +/- 5 cm to 10 meters.\n",
    "\n",
    "range: 5 cm to 10 meters\n"
   ]
  },
  {
   "cell_type": "markdown",
   "metadata": {},
   "source": [
    "https://github.com/garmin/LIDARLite_Arduino_Library/blob/master/src/LIDARLite_v4LED.cpp\n",
    "\n",
    "https://github.com/sparkfun/SparkFun_LIDARLitev4_Arduino_Library/blob/master/examples/Example1_GetDistance/Example1_GetDistance.ino\n",
    "\n",
    "\n",
    "we are going to convert this C++ code to python"
   ]
  },
  {
   "cell_type": "code",
   "execution_count": null,
   "metadata": {},
   "outputs": [],
   "source": []
  }
 ],
 "metadata": {
  "kernelspec": {
   "display_name": "Python 3",
   "language": "python",
   "name": "python3"
  },
  "language_info": {
   "codemirror_mode": {
    "name": "ipython",
    "version": 3
   },
   "file_extension": ".py",
   "mimetype": "text/x-python",
   "name": "python",
   "nbconvert_exporter": "python",
   "pygments_lexer": "ipython3",
   "version": "3.7.4"
  }
 },
 "nbformat": 4,
 "nbformat_minor": 2
}
