{
 "cells": [
  {
   "cell_type": "code",
   "execution_count": 1,
   "metadata": {},
   "outputs": [
    {
     "name": "stdout",
     "output_type": "stream",
     "text": [
      "Tello UDP target IP: 192.168.10.1\n",
      "UDP target port: 8889\n"
     ]
    }
   ],
   "source": [
    "import time\n",
    "import socket\n",
    "from tello import Tello"
   ]
  },
  {
   "cell_type": "code",
   "execution_count": 2,
   "metadata": {},
   "outputs": [
    {
     "data": {
      "text/plain": [
       "b'error'"
      ]
     },
     "execution_count": 2,
     "metadata": {},
     "output_type": "execute_result"
    }
   ],
   "source": [
    "drone = Tello()\n",
    "\n",
    "#  enable network commands on the drone\n",
    "drone.send(\"command\")\n",
    "\n",
    "# takeoff\n",
    "drone.send(\"takeoff\")\n",
    "\n",
    "#initialize a starting time\n",
    "start= time.time()\n",
    "\n",
    "# Wait 30 seconds\n",
    "while time.time() - start < 30:\n",
    "    # Get battery info\n",
    "    drone.send(\"battery?\")\n",
    "    # since tello auto-lands after 15 sec of no command\n",
    "    time.sleep(1)\n",
    "\n",
    "# land the Tello\n",
    "drone.send(\"land\")\n",
    "    "
   ]
  },
  {
   "cell_type": "code",
   "execution_count": 4,
   "metadata": {},
   "outputs": [],
   "source": [
    "def real_time (drone, long=False) :\n",
    "    drone.send(\"command\")\n",
    "    running = True\n",
    "    \n",
    "    #Recording all tasks done\n",
    "    flight_log = []\n",
    "    \n",
    "    while running:\n",
    "        \n",
    "        #starts an infinite loop\n",
    "        task = input (\"Type Tello command and hit enter. To exit program, input 'quit' .\")\n",
    "        \n",
    "        drone.send(task)\n",
    "        \n",
    "        if task == 'land':\n",
    "            running = False\n",
    "        \n",
    "        if log == True:\n",
    "            flight_log.append(task)\n",
    "            \n",
    "    if log == True:\n",
    "        return flight_log\n",
    "    "
   ]
  },
  {
   "cell_type": "code",
   "execution_count": null,
   "metadata": {},
   "outputs": [],
   "source": [
    "real_time(drone)\n"
   ]
  },
  {
   "cell_type": "code",
   "execution_count": null,
   "metadata": {},
   "outputs": [],
   "source": [
    "def polygon (drone, sides):\n",
    "    angle = 360/sides\n",
    "    angle = int(angle)\n",
    "    \n",
    "    drone.send('command')\n",
    "    done.send('takeoff')\n",
    "    \n",
    "    # Creates a start time\n",
    "    \n",
    "    start = time.time()\n",
    "    \n",
    "    if time.time () %5 == 0:\n",
    "        # five second delay\n",
    "        \n",
    "        for i in range (0, sides):\n",
    "            print(i)\n",
    "            \n",
    "            drone.send('forward 20')\n",
    "            task = 'cw {0}'.format(angle)\n",
    "            print(drone.send('battery?'))\n",
    "            drone.send(task)\n",
    "    drone.send('land')"
   ]
  },
  {
   "cell_type": "code",
   "execution_count": null,
   "metadata": {},
   "outputs": [],
   "source": [
    "def drift_test(drone, drift_time):\n",
    "    #this will put the drone in the air with mission pad detection on for pad below drone\n",
    "    drone.send('mon')\n",
    "    drone.send('mdirection 0')#why 0 and not 2?\n",
    "    drone.send('takeoff')\n",
    "    \n",
    "    #this will place the drone at ceneter of mission pad 1\n",
    "    drone.send('go 0 0 0 10 m1')\n",
    "    \n",
    "    #Starting timer\n",
    "    start = time.time()\n",
    "    \n",
    "    if time.time() - drift_time < 0 :\n",
    "        drone.send(\"battery?\")\n",
    "        time.sleep(1)\n",
    "    elif (time.time() - drift_time) >= 0 :\n",
    "        reset = time.time()\n",
    "        drone.send('go 0 0 0 10 m1')\n",
    "        reset_time = (time.time() - reset)\n",
    "    print (reset_time)\n",
    "    return (reset_time)"
   ]
  },
  {
   "cell_type": "code",
   "execution_count": null,
   "metadata": {},
   "outputs": [],
   "source": [
    "drone.send('command')\n",
    "drift_test(drone, 10)"
   ]
  },
  {
   "cell_type": "code",
   "execution_count": null,
   "metadata": {},
   "outputs": [],
   "source": []
  }
 ],
 "metadata": {
  "kernelspec": {
   "display_name": "Python 3",
   "language": "python",
   "name": "python3"
  },
  "language_info": {
   "codemirror_mode": {
    "name": "ipython",
    "version": 3
   },
   "file_extension": ".py",
   "mimetype": "text/x-python",
   "name": "python",
   "nbconvert_exporter": "python",
   "pygments_lexer": "ipython3",
   "version": "3.7.4"
  }
 },
 "nbformat": 4,
 "nbformat_minor": 2
}
