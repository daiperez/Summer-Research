{
 "cells": [
  {
   "cell_type": "code",
   "execution_count": 21,
   "metadata": {},
   "outputs": [],
   "source": [
    "import time\n",
    "import socket\n",
    "from tello import Tello"
   ]
  },
  {
   "cell_type": "code",
   "execution_count": 5,
   "metadata": {},
   "outputs": [
    {
     "data": {
      "text/plain": [
       "b'25\\r\\n'"
      ]
     },
     "execution_count": 5,
     "metadata": {},
     "output_type": "execute_result"
    }
   ],
   "source": [
    "drone = Tello()\n",
    "\n",
    "#  enable network commands on the drone\n",
    "drone.send(\"command\")\n",
    "\n",
    "# takeoff\n",
    "drone.send(\"takeoff\")\n",
    "\n",
    "#initialize a starting time\n",
    "start= time.time()\n",
    "\n",
    "# Wait 30 seconds\n",
    "while time.time() - start < 10:\n",
    "    # Get battery info\n",
    "    drone.send(\"battery?\")\n",
    "    # since tello auto-lands after 15 sec of no command\n",
    "    time.sleep(1)\n",
    "\n",
    "# land the Tello\n",
    "drone.send(\"land\")\n",
    "    "
   ]
  },
  {
   "cell_type": "code",
   "execution_count": null,
   "metadata": {},
   "outputs": [],
   "source": [
    "def real_time (drone, long=False) :\n",
    "    drone.send(\"command\")\n",
    "    running = True\n",
    "    \n",
    "    #Recording all tasks done\n",
    "    flight_log = []\n",
    "    \n",
    "    while running:\n",
    "        \n",
    "        #starts an infinite loop\n",
    "        task = input (\"Type Tello command and hit enter. To exit program, input 'quit' .\")\n",
    "        \n",
    "        drone.send(task)\n",
    "        \n",
    "        if task == 'quit':\n",
    "            running = False\n",
    "        \n",
    "        if flight_log == True:\n",
    "            flight_log.append(task)\n",
    "            \n",
    "    if flight_log == True:\n",
    "        return flight_log\n",
    "    "
   ]
  },
  {
   "cell_type": "code",
   "execution_count": null,
   "metadata": {},
   "outputs": [],
   "source": [
    "real_time(drone)"
   ]
  },
  {
   "cell_type": "code",
   "execution_count": 37,
   "metadata": {},
   "outputs": [],
   "source": [
    "def polygon (drone, sides):\n",
    "    angle = 360/sides\n",
    "    angle = int(angle)\n",
    "    \n",
    "    drone.send('command')\n",
    "    drone.send('takeoff')\n",
    "    \n",
    "    # Creates a start time\n",
    "    \n",
    "    start = time.time()\n",
    "    \n",
    "    if time.time () %5 == 0:\n",
    "        # five second delay\n",
    "        \n",
    "        for i in range (0, sides):\n",
    "            print(i)\n",
    "            \n",
    "            drone.send('forward 20')\n",
    "            task = 'cw {0}'.format(angle)\n",
    "            print(drone.send('battery?'))\n",
    "            drone.send(task)\n",
    "    drone.send('land')"
   ]
  },
  {
   "cell_type": "code",
   "execution_count": 42,
   "metadata": {},
   "outputs": [],
   "source": [
    "polygon(drone, 6)"
   ]
  },
  {
   "cell_type": "code",
   "execution_count": null,
   "metadata": {},
   "outputs": [],
   "source": [
    "def drift_test(drone, drift_time):\n",
    "    #this will put the drone in the air with mission pad detection on for pad below drone\n",
    "    drone.send('mon')\n",
    "    drone.send('mdirection 0')#why 0 and not 2?\n",
    "    drone.send('takeoff')\n",
    "    \n",
    "    #this will place the drone at ceneter of mission pad 1\n",
    "    drone.send('go 0 0 0 10 m1')\n",
    "    \n",
    "    #Starting timer\n",
    "    start = time.time()\n",
    "    \n",
    "    if time.time() - drift_time < 0 :\n",
    "        drone.send(\"battery?\")\n",
    "        time.sleep(1)\n",
    "    elif (time.time() - drift_time) >= 0 :\n",
    "        reset = time.time()\n",
    "        drone.send('go 0 0 0 10 m1')\n",
    "        reset_time = (time.time() - reset)\n",
    "    print (reset_time)\n",
    "    return (reset_time)"
   ]
  },
  {
   "cell_type": "code",
   "execution_count": 3,
   "metadata": {},
   "outputs": [
    {
     "ename": "NameError",
     "evalue": "name 'drone' is not defined",
     "output_type": "error",
     "traceback": [
      "\u001b[0;31m---------------------------------------------------------------------------\u001b[0m",
      "\u001b[0;31mNameError\u001b[0m                                 Traceback (most recent call last)",
      "\u001b[0;32m<ipython-input-3-510d3e851a02>\u001b[0m in \u001b[0;36m<module>\u001b[0;34m\u001b[0m\n\u001b[0;32m----> 1\u001b[0;31m \u001b[0mdrone\u001b[0m\u001b[0;34m.\u001b[0m\u001b[0msend\u001b[0m\u001b[0;34m(\u001b[0m\u001b[0;34m'command'\u001b[0m\u001b[0;34m)\u001b[0m\u001b[0;34m\u001b[0m\u001b[0;34m\u001b[0m\u001b[0m\n\u001b[0m\u001b[1;32m      2\u001b[0m \u001b[0mdrift_test\u001b[0m\u001b[0;34m(\u001b[0m\u001b[0mdrone\u001b[0m\u001b[0;34m,\u001b[0m \u001b[0;36m10\u001b[0m\u001b[0;34m)\u001b[0m\u001b[0;34m\u001b[0m\u001b[0;34m\u001b[0m\u001b[0m\n",
      "\u001b[0;31mNameError\u001b[0m: name 'drone' is not defined"
     ]
    }
   ],
   "source": [
    "drone.send('command')\n",
    "drift_test(drone, 10)"
   ]
  },
  {
   "cell_type": "code",
   "execution_count": 12,
   "metadata": {},
   "outputs": [
    {
     "name": "stdout",
     "output_type": "stream",
     "text": [
      "Collecting tellopy\n",
      "  Downloading https://files.pythonhosted.org/packages/fc/bf/03b1faed7cc401f6c508c2aafd739c66d43b9679279e996a63d7e2b56f2b/tellopy-0.6.0-py2.py3-none-any.whl\n",
      "Installing collected packages: tellopy\n",
      "Successfully installed tellopy-0.6.0\n",
      "Note: you may need to restart the kernel to use updated packages.\n"
     ]
    }
   ],
   "source": [
    "pip install tellopy"
   ]
  },
  {
   "cell_type": "code",
   "execution_count": 13,
   "metadata": {},
   "outputs": [
    {
     "name": "stdout",
     "output_type": "stream",
     "text": [
      "Requirement already satisfied: pygame in /opt/anaconda3/lib/python3.7/site-packages (1.9.6)\n",
      "Note: you may need to restart the kernel to use updated packages.\n"
     ]
    }
   ],
   "source": [
    "pip install pygame"
   ]
  },
  {
   "cell_type": "code",
   "execution_count": 2,
   "metadata": {},
   "outputs": [
    {
     "name": "stdout",
     "output_type": "stream",
     "text": [
      "Collecting av\n",
      "\u001b[?25l  Downloading https://files.pythonhosted.org/packages/46/86/7f7f5520aef4e8c6472f77a5a119d9ebf8d5fe24ebc8df2b019bbb3e987b/av-8.0.2-cp37-cp37m-macosx_10_9_x86_64.whl (21.2MB)\n",
      "\u001b[K     |████████████████████████████████| 21.2MB 1.8MB/s eta 0:00:01\n",
      "\u001b[?25hInstalling collected packages: av\n",
      "Successfully installed av-8.0.2\n",
      "Note: you may need to restart the kernel to use updated packages.\n"
     ]
    }
   ],
   "source": [
    "pip install av"
   ]
  },
  {
   "cell_type": "code",
   "execution_count": 2,
   "metadata": {},
   "outputs": [
    {
     "name": "stdout",
     "output_type": "stream",
     "text": [
      "Collecting opencv-python\n",
      "\u001b[?25l  Downloading https://files.pythonhosted.org/packages/e1/2d/4632afb17d93ced97d93858a0505090e717d5934828c3c1f0911e7bdd162/opencv_python-4.3.0.36-cp37-cp37m-macosx_10_9_x86_64.whl (52.6MB)\n",
      "\u001b[K     |████████████████████████████████| 52.6MB 60.4MB/s eta 0:00:01\n",
      "\u001b[?25hRequirement already satisfied: numpy>=1.14.5 in /opt/anaconda3/lib/python3.7/site-packages (from opencv-python) (1.17.2)\n",
      "Installing collected packages: opencv-python\n",
      "Successfully installed opencv-python-4.3.0.36\n",
      "Note: you may need to restart the kernel to use updated packages.\n"
     ]
    }
   ],
   "source": [
    "pip install opencv-python"
   ]
  },
  {
   "cell_type": "code",
   "execution_count": 3,
   "metadata": {},
   "outputs": [
    {
     "name": "stdout",
     "output_type": "stream",
     "text": [
      "Collecting image\n",
      "  Downloading https://files.pythonhosted.org/packages/d7/bd/633efea01275946c9ea4109070e2ca0f60f2ff308957d9868cc55cc7c64b/image-1.5.32.tar.gz\n",
      "Requirement already satisfied: pillow in /opt/anaconda3/lib/python3.7/site-packages (from image) (6.2.0)\n",
      "Collecting django (from image)\n",
      "\u001b[?25l  Downloading https://files.pythonhosted.org/packages/ca/ab/5e004afa025a6fb640c6e983d4983e6507421ff01be224da79ab7de7a21f/Django-3.0.8-py3-none-any.whl (7.5MB)\n",
      "\u001b[K     |████████████████████████████████| 7.5MB 3.2MB/s eta 0:00:01\n",
      "\u001b[?25hRequirement already satisfied: six in /opt/anaconda3/lib/python3.7/site-packages (from image) (1.12.0)\n",
      "Collecting asgiref~=3.2 (from django->image)\n",
      "  Downloading https://files.pythonhosted.org/packages/d5/eb/64725b25f991010307fd18a9e0c1f0e6dff2f03622fc4bcbcdb2244f60d6/asgiref-3.2.10-py3-none-any.whl\n",
      "Requirement already satisfied: pytz in /opt/anaconda3/lib/python3.7/site-packages (from django->image) (2019.3)\n",
      "Collecting sqlparse>=0.2.2 (from django->image)\n",
      "\u001b[?25l  Downloading https://files.pythonhosted.org/packages/85/ee/6e821932f413a5c4b76be9c5936e313e4fc626b33f16e027866e1d60f588/sqlparse-0.3.1-py2.py3-none-any.whl (40kB)\n",
      "\u001b[K     |████████████████████████████████| 40kB 12.6MB/s eta 0:00:01\n",
      "\u001b[?25hBuilding wheels for collected packages: image\n",
      "  Building wheel for image (setup.py) ... \u001b[?25ldone\n",
      "\u001b[?25h  Created wheel for image: filename=image-1.5.32-py2.py3-none-any.whl size=19474 sha256=a42c8e27a39dc3c68365212c82587e43ca0cd92ac2477c4cc8ca2afe8c9d3803\n",
      "  Stored in directory: /Users/daisyperez/Library/Caches/pip/wheels/15/e7/2c/8806acfc81e754e18f3077a14b69c8200f82478489a985feda\n",
      "Successfully built image\n",
      "Installing collected packages: asgiref, sqlparse, django, image\n",
      "Successfully installed asgiref-3.2.10 django-3.0.8 image-1.5.32 sqlparse-0.3.1\n",
      "Note: you may need to restart the kernel to use updated packages.\n"
     ]
    }
   ],
   "source": [
    "pip install image"
   ]
  },
  {
   "cell_type": "markdown",
   "metadata": {},
   "source": [
    "# Button Numbers \n",
    "\n",
    "- square = 0\n",
    "- x = 1\n",
    "- circle = 2\n",
    "- triangle = 3\n",
    "- L1 = 4\n",
    "- L2 = 6\n",
    "- R1 = 5\n",
    "- R2 = 7\n",
    "- Share = 8\n",
    "- options = 9\n",
    "- Left Joystick = 10\n",
    "- Right Joystick = 11\n",
    "- Playstation button = 12\n",
    "- Center Pad = 13\n",
    "\n"
   ]
  },
  {
   "cell_type": "code",
   "execution_count": 2,
   "metadata": {},
   "outputs": [
    {
     "name": "stdout",
     "output_type": "stream",
     "text": [
      "EXITING NOW\n"
     ]
    }
   ],
   "source": [
    "'''\n",
    "This will be constantly recieving new data. From the controller, if it os new axis\n",
    "motion, button down or button up\n",
    "'''\n",
    "\n",
    "import time\n",
    "import socket\n",
    "from tello import Tello\n",
    "\n",
    "drone = Tello()\n",
    "\n",
    "import pygame\n",
    "\n",
    "\n",
    "\n",
    "pygame.init()\n",
    "j = pygame.joystick.Joystick(0)\n",
    "j.init()\n",
    "\n",
    "try:\n",
    "    while True:\n",
    "        events = pygame.event.get()\n",
    "        for event in events:\n",
    "            #if event.type == pygame.JOYAXISMOTION:\n",
    "               # print(event.dict, event.joy, event.axis, event.value)\n",
    "                \n",
    "            if event.type == pygame.JOYBUTTONDOWN:\n",
    "                #PlayStation button take off\n",
    "                if (event.button == 12):\n",
    "                    drone.send(\"command\")\n",
    "                    drone.send(\"takeoff\")\n",
    "                elif (event.button == 0):\n",
    "                    drone.send(\"command\")\n",
    "                    drone.send(\"left 20\")\n",
    "                    \n",
    "                elif (event.button == 1):\n",
    "                    drone.send(\"down 20\")\n",
    "                    \n",
    "                elif (event.button == 2):\n",
    "                    drone.send(\"right 20\")\n",
    "                    \n",
    "                elif (event.button == 3):\n",
    "                    drone.send(\"up 20\")\n",
    "                \n",
    "                elif (event.button == 4):\n",
    "                    drone.send(\"ccw 15\")\n",
    "                \n",
    "                elif (event.button == 5):\n",
    "                    drone.send(\"cw 15\")\n",
    "                \n",
    "                elif (event.button == 6):\n",
    "                    drone.send(\"flip l\")\n",
    "                \n",
    "                elif (event.button == 7):\n",
    "                    drone.send(\"flip r\")\n",
    "                    \n",
    "                elif (event.button == 8):\n",
    "                    drone.send(\"streamon\")\n",
    "                \n",
    "                elif (event.button == 9):\n",
    "                    drone.send(\"streamoff\")\n",
    "                \n",
    "                elif (event.button == 10):\n",
    "                    drone.send(\"forward 20\")\n",
    "                \n",
    "                elif (event.button == 11):\n",
    "                    drone.send(\"back 20\")\n",
    "                \n",
    "                elif (event.button == 13):\n",
    "                    drone.send(\"emergency\")\n",
    "                \n",
    "                \n",
    "                print(event.button, 'pressed')\n",
    "                \n",
    "            #elif event.type == pygame.JOYBUTTONUP:\n",
    "                #print(event.dict, event.joy, event.button, 'released')\n",
    "            #elif event.type == pygame.JOYHATMOTION:\n",
    "                #print(event.dict, event.joy, event.hat, event.value)\n",
    "\n",
    "except KeyboardInterrupt:\n",
    "    drone.send(\"emergency\")\n",
    "    print(\"EXITING NOW\")\n",
    "    j.quit()\n",
    "    "
   ]
  },
  {
   "cell_type": "markdown",
   "metadata": {},
   "source": [
    "# Notes about code above\n",
    "\n",
    "- will automatically land after 15 seconds on inactivity.\n",
    "- There is sometime some lag time of about 5 seconds."
   ]
  },
  {
   "cell_type": "code",
   "execution_count": null,
   "metadata": {},
   "outputs": [],
   "source": []
  }
 ],
 "metadata": {
  "kernelspec": {
   "display_name": "Python 3",
   "language": "python",
   "name": "python3"
  },
  "language_info": {
   "codemirror_mode": {
    "name": "ipython",
    "version": 3
   },
   "file_extension": ".py",
   "mimetype": "text/x-python",
   "name": "python",
   "nbconvert_exporter": "python",
   "pygments_lexer": "ipython3",
   "version": "3.7.4"
  }
 },
 "nbformat": 4,
 "nbformat_minor": 2
}
