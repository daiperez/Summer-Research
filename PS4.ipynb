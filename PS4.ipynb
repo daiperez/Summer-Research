{
 "cells": [
  {
   "cell_type": "code",
   "execution_count": null,
   "metadata": {},
   "outputs": [],
   "source": [
    "sudo apt-get update"
   ]
  },
  {
   "cell_type": "code",
   "execution_count": null,
   "metadata": {},
   "outputs": [],
   "source": [
    "pip install pyPS4Controller"
   ]
  },
  {
   "cell_type": "code",
   "execution_count": 1,
   "metadata": {},
   "outputs": [],
   "source": [
    "import sys"
   ]
  },
  {
   "cell_type": "code",
   "execution_count": 2,
   "metadata": {},
   "outputs": [
    {
     "name": "stdout",
     "output_type": "stream",
     "text": [
      "12 pressed\n",
      "12 pressed\n",
      "1 pressed\n",
      "1 pressed\n",
      "1 pressed\n",
      "1 pressed\n",
      "2 pressed\n",
      "2 pressed\n",
      "0 pressed\n",
      "1 pressed\n",
      "2 pressed\n",
      "3 pressed\n",
      "EXITING NOW\n"
     ]
    }
   ],
   "source": [
    "'''\n",
    "This will be constantly recieving new data. From the controller, if it os new axis\n",
    "motion, button down or button up\n",
    "'''\n",
    "import pygame\n",
    "\n",
    "pygame.init()\n",
    "j = pygame.joystick.Joystick(0)\n",
    "j.init()\n",
    "\n",
    "try:\n",
    "    while True:\n",
    "        events = pygame.event.get()\n",
    "        for event in events:\n",
    "            #if event.type == pygame.JOYAXISMOTION:\n",
    "               # print(event.dict, event.joy, event.axis, event.value)\n",
    "            if event.type == pygame.JOYBUTTONDOWN:\n",
    "                print(event.dict, event.joy, event.button, 'pressed')\n",
    "            #elif event.type == pygame.JOYBUTTONUP:\n",
    "               # print(event.dict, event.joy, event.button, 'released')\n",
    "            #elif event.type == pygame.JOYHATMOTION:\n",
    "                #print(event.dict, event.joy, event.hat, event.value)\n",
    "\n",
    "except KeyboardInterrupt:\n",
    "    print(\"EXITING NOW\")\n",
    "    j.quit()"
   ]
  },
  {
   "cell_type": "code",
   "execution_count": 27,
   "metadata": {},
   "outputs": [
    {
     "name": "stdout",
     "output_type": "stream",
     "text": [
      "1\n",
      "The Joystick is initialized  1\n",
      "The Joystick id is:  0\n",
      "The Joystick name is:  Wireless Controller\n",
      "The number of buttons on the joystick is:  14\n",
      "The  number of axis on the joystick:  6\n",
      "range(0, 14)\n"
     ]
    },
    {
     "ename": "KeyboardInterrupt",
     "evalue": "",
     "output_type": "error",
     "traceback": [
      "\u001b[0;31m---------------------------------------------------------------------------\u001b[0m",
      "\u001b[0;31mKeyboardInterrupt\u001b[0m                         Traceback (most recent call last)",
      "\u001b[0;32m<ipython-input-27-4c33aea4d723>\u001b[0m in \u001b[0;36m<module>\u001b[0;34m\u001b[0m\n\u001b[1;32m     24\u001b[0m \u001b[0;34m\u001b[0m\u001b[0m\n\u001b[1;32m     25\u001b[0m \u001b[0;32mwhile\u001b[0m \u001b[0;36m1\u001b[0m\u001b[0;34m:\u001b[0m\u001b[0;34m\u001b[0m\u001b[0;34m\u001b[0m\u001b[0m\n\u001b[0;32m---> 26\u001b[0;31m         \u001b[0;32mfor\u001b[0m \u001b[0me\u001b[0m \u001b[0;32min\u001b[0m \u001b[0mpygame\u001b[0m\u001b[0;34m.\u001b[0m\u001b[0mevent\u001b[0m\u001b[0;34m.\u001b[0m\u001b[0mget\u001b[0m\u001b[0;34m(\u001b[0m\u001b[0;34m)\u001b[0m\u001b[0;34m:\u001b[0m\u001b[0;34m\u001b[0m\u001b[0;34m\u001b[0m\u001b[0m\n\u001b[0m\u001b[1;32m     27\u001b[0m                 \u001b[0;32mif\u001b[0m \u001b[0me\u001b[0m\u001b[0;34m.\u001b[0m\u001b[0mtype\u001b[0m \u001b[0;34m==\u001b[0m \u001b[0mpygame\u001b[0m\u001b[0;34m.\u001b[0m\u001b[0mlocals\u001b[0m\u001b[0;34m.\u001b[0m\u001b[0mJOYBUTTONDOWN\u001b[0m\u001b[0;34m:\u001b[0m\u001b[0;34m\u001b[0m\u001b[0;34m\u001b[0m\u001b[0m\n\u001b[1;32m     28\u001b[0m                         \u001b[0mindex\u001b[0m \u001b[0;34m=\u001b[0m \u001b[0;34m\"Input.BUTTON-%d\"\u001b[0m \u001b[0;34m%\u001b[0m \u001b[0me\u001b[0m\u001b[0;34m.\u001b[0m\u001b[0mbutton\u001b[0m\u001b[0;34m\u001b[0m\u001b[0;34m\u001b[0m\u001b[0m\n",
      "\u001b[0;31mKeyboardInterrupt\u001b[0m: "
     ]
    }
   ],
   "source": [
    "'''\n",
    "This gives me information about the controller, making sure im using all features a \n",
    "PS4 controller offers\n",
    "'''\n",
    "import pygame\n",
    "from pygame.locals import *\n",
    "\n",
    "pygame.init()\n",
    "\n",
    "num_of_joysticks = pygame.joystick.get_count()\n",
    "print(num_of_joysticks)\n",
    "\n",
    "Joystick = pygame.joystick.Joystick(0)\n",
    "Joystick.init()\n",
    "print (\"The Joystick is initialized \", Joystick.get_init())\n",
    "print (\"The Joystick id is: \", Joystick.get_id())\n",
    "print (\"The Joystick name is: \", Joystick.get_name())\n",
    "print (\"The number of buttons on the joystick is: \", Joystick.get_numbuttons())\n",
    "print (\"The  number of axis on the joystick: \", Joystick.get_numaxes())\n",
    "\n",
    "\n",
    "\n",
    "print (range(Joystick.get_numbuttons()))\n",
    "\n",
    "while 1:\n",
    "\tfor e in pygame.event.get():\n",
    "\t\tif e.type == pygame.locals.JOYBUTTONDOWN:\n",
    "\t\t\tindex = \"Input.BUTTON-%d\" % e.button\n",
    "\t\t\t#index =  % e.button\n",
    "\t\t\tprint (index)"
   ]
  },
  {
   "cell_type": "markdown",
   "metadata": {},
   "source": [
    "# Button Numbers \n",
    "\n",
    "- square = 0\n",
    "- x = 1\n",
    "- circle = 2\n",
    "- triangle = 3\n",
    "- L1 = 4\n",
    "- L2 = 6\n",
    "- R1 = 5\n",
    "- R2 = 7\n",
    "- Share = 8\n",
    "- options = 9\n",
    "- Left Joystick = 10\n",
    "- Right Joystick = 11\n",
    "- Playstation button = 12\n",
    "- Center Pad = 13\n"
   ]
  },
  {
   "cell_type": "code",
   "execution_count": 24,
   "metadata": {},
   "outputs": [
    {
     "ename": "KeyboardInterrupt",
     "evalue": "",
     "output_type": "error",
     "traceback": [
      "\u001b[0;31m---------------------------------------------------------------------------\u001b[0m",
      "\u001b[0;31mKeyboardInterrupt\u001b[0m                         Traceback (most recent call last)",
      "\u001b[0;32m<ipython-input-24-cbf9872fad2d>\u001b[0m in \u001b[0;36m<module>\u001b[0;34m\u001b[0m\n\u001b[1;32m     16\u001b[0m     \u001b[0maxis\u001b[0m\u001b[0;34m[\u001b[0m\u001b[0mAXIS_Y\u001b[0m\u001b[0;34m]\u001b[0m \u001b[0;34m=\u001b[0m \u001b[0mrot_y\u001b[0m\u001b[0;34m\u001b[0m\u001b[0;34m\u001b[0m\u001b[0m\n\u001b[1;32m     17\u001b[0m \u001b[0;34m\u001b[0m\u001b[0m\n\u001b[0;32m---> 18\u001b[0;31m     \u001b[0;32mfor\u001b[0m \u001b[0mevent\u001b[0m \u001b[0;32min\u001b[0m \u001b[0mpygame\u001b[0m\u001b[0;34m.\u001b[0m\u001b[0mevent\u001b[0m\u001b[0;34m.\u001b[0m\u001b[0mget\u001b[0m\u001b[0;34m(\u001b[0m\u001b[0;34m)\u001b[0m\u001b[0;34m:\u001b[0m\u001b[0;34m\u001b[0m\u001b[0;34m\u001b[0m\u001b[0m\n\u001b[0m\u001b[1;32m     19\u001b[0m         \u001b[0;32mif\u001b[0m \u001b[0mevent\u001b[0m\u001b[0;34m.\u001b[0m\u001b[0mtype\u001b[0m \u001b[0;34m==\u001b[0m \u001b[0mpygame\u001b[0m\u001b[0;34m.\u001b[0m\u001b[0mJOYAXISMOTION\u001b[0m\u001b[0;34m:\u001b[0m\u001b[0;34m\u001b[0m\u001b[0;34m\u001b[0m\u001b[0m\n\u001b[1;32m     20\u001b[0m             \u001b[0maxis\u001b[0m\u001b[0;34m[\u001b[0m\u001b[0mevent\u001b[0m\u001b[0;34m.\u001b[0m\u001b[0maxis\u001b[0m\u001b[0;34m]\u001b[0m \u001b[0;34m=\u001b[0m \u001b[0mround\u001b[0m\u001b[0;34m(\u001b[0m\u001b[0mevent\u001b[0m\u001b[0;34m.\u001b[0m\u001b[0mvalue\u001b[0m\u001b[0;34m,\u001b[0m \u001b[0;36m2\u001b[0m\u001b[0;34m)\u001b[0m\u001b[0;34m\u001b[0m\u001b[0;34m\u001b[0m\u001b[0m\n",
      "\u001b[0;31mKeyboardInterrupt\u001b[0m: "
     ]
    }
   ],
   "source": [
    "'''This code would be used to control the drone via axis motion when clicking\n",
    "   on the center pad of the PS4 controller also dispay how the computer sees the\n",
    "   motion from the controller'''\n",
    "\n",
    "pygame.init()\n",
    "j = pygame.joystick.Joystick(0)\n",
    "j.init()\n",
    "\n",
    "axis = {}\n",
    "button = {}\n",
    "\n",
    "AXIS_X = 3\n",
    "AXIS_Y = 4\n",
    "\n",
    "rot_x = 0.0\n",
    "rot_y = 0.0\n",
    "\n",
    "while True:\n",
    "    axis[AXIS_X] = rot_x\n",
    "    axis[AXIS_Y] = rot_y\n",
    "    \n",
    "    for event in pygame.event.get():\n",
    "        if event.type == pygame.JOYAXISMOTION:\n",
    "            axis[event.axis] = round(event.value, 2)\n",
    "        elif event.type == pygame.JOYBUTTONDOWN:\n",
    "            button[event.button] = True\n",
    "        elif event.type == pygame.JOYBUTTONUP:\n",
    "            button[event.button] = False\n",
    "    rot_x = axis[AXIS_X]\n",
    "    rot_y = axis[AXIS_Y]\n",
    "    \n",
    "glPushMatrix()\n",
    "glRotatef(roty_scale * rot_y, 1, 0, 0)\n",
    "glRotatef(rotx_scale * rot_x, 0, 0, 1)\n",
    "glClear(GL_COLOR_BUFFER_BIT | GL_DEPTH_BUFFER_BIT)\n",
    "glBegin(GL_LINES)\n",
    "for edge in edges:\n",
    "    for vertex in edge:\n",
    "        glColor3fv((1,1,1))\n",
    "        glVertex3fv(vertices[vertex])\n",
    "glEnd()\n",
    "glPopMatrix()"
   ]
  },
  {
   "cell_type": "code",
   "execution_count": null,
   "metadata": {},
   "outputs": [],
   "source": []
  }
 ],
 "metadata": {
  "kernelspec": {
   "display_name": "Python 3",
   "language": "python",
   "name": "python3"
  },
  "language_info": {
   "codemirror_mode": {
    "name": "ipython",
    "version": 3
   },
   "file_extension": ".py",
   "mimetype": "text/x-python",
   "name": "python",
   "nbconvert_exporter": "python",
   "pygments_lexer": "ipython3",
   "version": "3.7.4"
  }
 },
 "nbformat": 4,
 "nbformat_minor": 2
}
